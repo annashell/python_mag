{
  "nbformat": 4,
  "nbformat_minor": 0,
  "metadata": {
    "colab": {
      "provenance": [],
      "authorship_tag": "ABX9TyMQjqyvj9NkAAZv7fYGfBLm",
      "include_colab_link": true
    },
    "kernelspec": {
      "name": "python3",
      "display_name": "Python 3"
    },
    "language_info": {
      "name": "python"
    }
  },
  "cells": [
    {
      "cell_type": "markdown",
      "metadata": {
        "id": "view-in-github",
        "colab_type": "text"
      },
      "source": [
        "<a href=\"https://colab.research.google.com/github/annashell/python_mag/blob/main/mag_python_advanced_classes.ipynb\" target=\"_parent\"><img src=\"https://colab.research.google.com/assets/colab-badge.svg\" alt=\"Open In Colab\"/></a>"
      ]
    },
    {
      "cell_type": "markdown",
      "source": [
        "<h2>Классы в Python</h2>\n",
        "\n",
        "<p> Классы - это фундаментальная концепция объектно-ориентированного программирования (ООП). Они позволяют создавать собственные типы данных.</p>\n",
        "\n",
        "<p>Класс - это шаблон для создания объектов. Объекты - это экземпляры классов.</p>\n",
        "\n",
        "<p>\n",
        "Классы в Python предоставляют мощный инструмент для организации кода, делая его более:\n",
        "\n",
        "* Модульным - легче поддерживать и изменять\n",
        "\n",
        "* Переиспользуемым - код можно использовать многократно\n",
        "\n",
        "* Расширяемым - легко добавлять новую функциональность\n",
        "\n",
        "* Понятным - лучше отражает реальные объекты и процессы</p>\n"
      ],
      "metadata": {
        "id": "QUmCjwRNnBCl"
      }
    },
    {
      "cell_type": "code",
      "execution_count": null,
      "metadata": {
        "id": "hNIQaz2jmx6a"
      },
      "outputs": [],
      "source": [
        "class Dog:\n",
        "    # Атрибут класса (общий для всех экземпляров)\n",
        "    species = \"Canis familiaris\"\n",
        "\n",
        "    # Конструктор (инициализатор)\n",
        "    def __init__(self, name, age):\n",
        "        # Атрибуты экземпляра\n",
        "        self.name = name\n",
        "        self.age = age\n",
        "\n",
        "    # Метод экземпляра\n",
        "    def bark(self):\n",
        "        return f\"{self.name} говорит: Гав!\"\n",
        "\n",
        "    # Еще один метод\n",
        "    def get_info(self):\n",
        "        return f\"{self.name} - {self.age} лет, вид: {self.species}\"\n",
        "\n"
      ]
    },
    {
      "cell_type": "code",
      "source": [
        "# Создание объектов (экземпляров класса)\n",
        "dog1 = Dog(\"Бобик\", 3)\n",
        "dog2 = Dog(\"Шарик\", 5)"
      ],
      "metadata": {
        "id": "a7VTuIaDoF3_"
      },
      "execution_count": null,
      "outputs": []
    },
    {
      "cell_type": "code",
      "source": [
        "# Использование методов\n",
        "print(dog1.bark())  # Бобик говорит: Гав!\n",
        "print(dog2.get_info())  # Шарик - 5 лет, вид: Canis familiaris"
      ],
      "metadata": {
        "id": "cFOZkPJgoGfN"
      },
      "execution_count": null,
      "outputs": []
    },
    {
      "cell_type": "code",
      "source": [
        "# Доступ к атрибутам\n",
        "print(dog1.name)  # Бобик\n",
        "print(dog2.age)   # 5"
      ],
      "metadata": {
        "id": "Ht9qmAu8oJr4"
      },
      "execution_count": null,
      "outputs": []
    },
    {
      "cell_type": "markdown",
      "source": [
        "<h3>Ключевые понятия ООП</h3>\n",
        "<h4>1. Инкапсуляция</h4>\n"
      ],
      "metadata": {
        "id": "Dfk9ZZ1Znlv_"
      }
    },
    {
      "cell_type": "code",
      "source": [
        "class BankAccount:\n",
        "    def __init__(self, owner, balance=0):\n",
        "        self.owner = owner\n",
        "        self.__balance = balance  # Приватный атрибут\n",
        "\n",
        "    def deposit(self, amount):\n",
        "        if amount > 0:\n",
        "            self.__balance += amount\n",
        "            return f\"Пополнено: {amount}. Баланс: {self.__balance}\"\n",
        "        return \"Неверная сумма\"\n",
        "\n",
        "    def withdraw(self, amount):\n",
        "        if 0 < amount <= self.__balance:\n",
        "            self.__balance -= amount\n",
        "            return f\"Снято: {amount}. Баланс: {self.__balance}\"\n",
        "        return \"Недостаточно средств\"\n",
        "\n",
        "    def get_balance(self):\n",
        "        return self.__balance"
      ],
      "metadata": {
        "id": "2ulNBneEnABv"
      },
      "execution_count": null,
      "outputs": []
    },
    {
      "cell_type": "code",
      "source": [
        "# Использование\n",
        "account = BankAccount(\"Иван Иванов\", 1000)\n",
        "print(account.deposit(500))  # Пополнено: 500. Баланс: 1500\n",
        "print(account.withdraw(200)) # Снято: 200. Баланс: 1300"
      ],
      "metadata": {
        "id": "_oDK99nzoQ_O"
      },
      "execution_count": null,
      "outputs": []
    },
    {
      "cell_type": "markdown",
      "source": [
        "<h4>2. Наследование</h4>"
      ],
      "metadata": {
        "id": "XrrIaRuToRz8"
      }
    },
    {
      "cell_type": "code",
      "source": [
        "# Базовый класс\n",
        "class Animal:\n",
        "    def __init__(self, name):\n",
        "        self.name = name\n",
        "\n",
        "    def speak(self):\n",
        "        raise NotImplementedError(\"Должен быть реализован в подклассе\")\n",
        "\n",
        "# Подкласс\n",
        "class Cat(Animal):\n",
        "    def speak(self):\n",
        "        return f\"{self.name} говорит: Мяу!\"\n",
        "\n",
        "# Другой подкласс\n",
        "class Dog(Animal):\n",
        "    def speak(self):\n",
        "        return f\"{self.name} говорит: Гав!\"\n",
        "\n",
        "    def fetch(self):\n",
        "        return f\"{self.name} принес палку!\"\n"
      ],
      "metadata": {
        "id": "iaddYhHHobjt"
      },
      "execution_count": null,
      "outputs": []
    },
    {
      "cell_type": "code",
      "source": [
        "# Использование\n",
        "animals = [Cat(\"Мурка\"), Dog(\"Бобик\")]\n",
        "\n",
        "for animal in animals:\n",
        "    print(animal.speak())"
      ],
      "metadata": {
        "id": "mEp4HbFzofLk"
      },
      "execution_count": null,
      "outputs": []
    },
    {
      "cell_type": "markdown",
      "source": [
        "<h4>3. Полиморфизм</h4>"
      ],
      "metadata": {
        "id": "qJDnBQczpZyw"
      }
    },
    {
      "cell_type": "code",
      "source": [
        "class Rectangle:\n",
        "    def __init__(self, width, height):\n",
        "        self.width = width\n",
        "        self.height = height\n",
        "\n",
        "    def area(self):\n",
        "        return self.width * self.height\n",
        "\n",
        "class Circle:\n",
        "    def __init__(self, radius):\n",
        "        self.radius = radius\n",
        "\n",
        "    def area(self):\n",
        "        return 3.14 * self.radius ** 2"
      ],
      "metadata": {
        "id": "1xvxNjWyphZh"
      },
      "execution_count": null,
      "outputs": []
    },
    {
      "cell_type": "code",
      "source": [
        "# Разные классы, но одинаковый метод\n",
        "shapes = [Rectangle(5, 10), Circle(7)]\n",
        "\n",
        "for shape in shapes:\n",
        "    print(f\"Площадь: {shape.area()}\")"
      ],
      "metadata": {
        "id": "atMex3pnpkWu"
      },
      "execution_count": null,
      "outputs": []
    },
    {
      "cell_type": "markdown",
      "source": [
        "<h4>Специальные методы</h4>"
      ],
      "metadata": {
        "id": "gHgwHzCApl9B"
      }
    },
    {
      "cell_type": "code",
      "source": [
        "class Vector:\n",
        "    def __init__(self, x, y):\n",
        "        self.x = x\n",
        "        self.y = y\n",
        "\n",
        "    def __str__(self):\n",
        "        return f\"Vector({self.x}, {self.y})\"\n",
        "\n",
        "    def __add__(self, other):\n",
        "        return Vector(self.x + other.x, self.y + other.y)\n",
        "\n",
        "    def __mul__(self, scalar):\n",
        "        return Vector(self.x * scalar, self.y * scalar)"
      ],
      "metadata": {
        "id": "77SZ-Khrp3cW"
      },
      "execution_count": null,
      "outputs": []
    },
    {
      "cell_type": "code",
      "source": [
        "# Использование\n",
        "v1 = Vector(2, 3)\n",
        "v2 = Vector(1, 4)\n",
        "\n",
        "print(v1)           # Vector(2, 3)\n",
        "print(v1 + v2)      # Vector(3, 7)\n",
        "print(v1 * 3)       # Vector(6, 9)"
      ],
      "metadata": {
        "id": "xfaDFhoLp-Od"
      },
      "execution_count": null,
      "outputs": []
    },
    {
      "cell_type": "markdown",
      "source": [
        "Еще пример использования:"
      ],
      "metadata": {
        "id": "d-wri1aVp_Zk"
      }
    },
    {
      "cell_type": "code",
      "source": [
        "class Student:\n",
        "    def __init__(self, name, student_id):\n",
        "        self.name = name\n",
        "        self.student_id = student_id\n",
        "        self.grades = []\n",
        "\n",
        "    def add_grade(self, grade):\n",
        "        if 0 <= grade <= 100:\n",
        "            self.grades.append(grade)\n",
        "        else:\n",
        "            print(\"Оценка должна быть от 0 до 100\")\n",
        "\n",
        "    def average_grade(self):\n",
        "        if not self.grades:\n",
        "            return 0\n",
        "        return sum(self.grades) / len(self.grades)\n",
        "\n",
        "    def __str__(self):\n",
        "        return f\"Студент: {self.name} (ID: {self.student_id}), Средний балл: {self.average_grade():.2f}\"\n",
        "\n",
        "class Course:\n",
        "    def __init__(self, name):\n",
        "        self.name = name\n",
        "        self.students = []\n",
        "\n",
        "    def add_student(self, student):\n",
        "        self.students.append(student)\n",
        "\n",
        "    def get_top_student(self):\n",
        "        if not self.students:\n",
        "            return None\n",
        "        return max(self.students, key=lambda s: s.average_grade())"
      ],
      "metadata": {
        "id": "0Md2DPENq5jK"
      },
      "execution_count": null,
      "outputs": []
    },
    {
      "cell_type": "code",
      "source": [
        "# Использование\n",
        "course = Course(\"Программирование на Python\")\n",
        "\n",
        "student1 = Student(\"Алексей\", \"001\")\n",
        "student1.add_grade(95)\n",
        "student1.add_grade(88)\n",
        "\n",
        "student2 = Student(\"Мария\", \"002\")\n",
        "student2.add_grade(92)\n",
        "student2.add_grade(96)\n",
        "\n",
        "course.add_student(student1)\n",
        "course.add_student(student2)\n",
        "\n",
        "for student in course.students:\n",
        "    print(student)\n",
        "\n",
        "top_student = course.get_top_student()\n",
        "print(f\"\\nЛучший студент: {top_student.name}\")"
      ],
      "metadata": {
        "id": "OItBuHpPq9Ne"
      },
      "execution_count": null,
      "outputs": []
    },
    {
      "cell_type": "markdown",
      "source": [
        "**Задание**: библиотека\n",
        "\n",
        "Создайте класс Book с атрибутами: title, author, is_available\n",
        "\n",
        "Создайте класс Library: список книг\n",
        "\n",
        "Методы: add_book(), borrow_book(title), return_book(title), show_available_books()"
      ],
      "metadata": {
        "id": "SrmNVexYrM2W"
      }
    },
    {
      "cell_type": "code",
      "source": [],
      "metadata": {
        "id": "6nbMiKkKrX2E"
      },
      "execution_count": null,
      "outputs": []
    }
  ]
}