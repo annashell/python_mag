{
  "nbformat": 4,
  "nbformat_minor": 0,
  "metadata": {
    "colab": {
      "provenance": [],
      "authorship_tag": "ABX9TyOZV69rk4EYqHyU1Xx/Oitx",
      "include_colab_link": true
    },
    "kernelspec": {
      "name": "python3",
      "display_name": "Python 3"
    },
    "language_info": {
      "name": "python"
    }
  },
  "cells": [
    {
      "cell_type": "markdown",
      "metadata": {
        "id": "view-in-github",
        "colab_type": "text"
      },
      "source": [
        "<a href=\"https://colab.research.google.com/github/annashell/python_mag/blob/main/mag_python_advanced_praat_2.ipynb\" target=\"_parent\"><img src=\"https://colab.research.google.com/assets/colab-badge.svg\" alt=\"Open In Colab\"/></a>"
      ]
    },
    {
      "cell_type": "markdown",
      "source": [
        "Файлы для задач:"
      ],
      "metadata": {
        "id": "Ysyk4YbnCst7"
      }
    },
    {
      "cell_type": "code",
      "source": [
        "!wget https://github.com/annashell/python_mag/blob/main/txt_files/av18s.wav\n",
        "!wget https://raw.githubusercontent.com/annashell/python_mag/refs/heads/main/txt_files/av18s.TextGrid"
      ],
      "metadata": {
        "id": "_121vezVCy60"
      },
      "execution_count": null,
      "outputs": []
    },
    {
      "cell_type": "markdown",
      "source": [
        "Задача 1. Вычислите общую длительность пауз в файле и долю пауз от общей длительности записи."
      ],
      "metadata": {
        "id": "KWKC7SpyFkeE"
      }
    },
    {
      "cell_type": "code",
      "source": [],
      "metadata": {
        "id": "yI141Uu8FxkS"
      },
      "execution_count": null,
      "outputs": []
    },
    {
      "cell_type": "markdown",
      "source": [
        "Задача 2.\n",
        "Создайте PointTier, заполненный точками, соответствующими серединам интервалов слоя ideal, не считая пауз. Именами точек будут имена соответствующих интервалов."
      ],
      "metadata": {
        "id": "Cir-Z7x-CUtT"
      }
    },
    {
      "cell_type": "code",
      "execution_count": null,
      "metadata": {
        "id": "mmk0zVPuCDkj"
      },
      "outputs": [],
      "source": []
    },
    {
      "cell_type": "markdown",
      "source": [
        "Задача 3. Считайте слои syllables и perception, составьте список пар (слог - составляющие его звуки).\n",
        "<br3>\n",
        "Например,\n",
        "[(\"s'n'i\", [\"s'\", \"n'\", \"i\"]), ....]"
      ],
      "metadata": {
        "id": "A-xw1PoOC0Ey"
      }
    },
    {
      "cell_type": "code",
      "source": [],
      "metadata": {
        "id": "hjQ_yOzcFm_D"
      },
      "execution_count": null,
      "outputs": []
    }
  ]
}