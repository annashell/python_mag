{
  "nbformat": 4,
  "nbformat_minor": 0,
  "metadata": {
    "colab": {
      "provenance": [],
      "authorship_tag": "ABX9TyMxaIu/oyAfsKwfRGz6PaBI",
      "include_colab_link": true
    },
    "kernelspec": {
      "name": "python3",
      "display_name": "Python 3"
    },
    "language_info": {
      "name": "python"
    }
  },
  "cells": [
    {
      "cell_type": "markdown",
      "metadata": {
        "id": "view-in-github",
        "colab_type": "text"
      },
      "source": [
        "<a href=\"https://colab.research.google.com/github/annashell/python_mag/blob/main/mag_python_advanced_praat_2.ipynb\" target=\"_parent\"><img src=\"https://colab.research.google.com/assets/colab-badge.svg\" alt=\"Open In Colab\"/></a>"
      ]
    },
    {
      "cell_type": "markdown",
      "source": [
        "Файлы для задач:"
      ],
      "metadata": {
        "id": "Ysyk4YbnCst7"
      }
    },
    {
      "cell_type": "code",
      "source": [
        "!wget https://github.com/annashell/python_mag/raw/refs/heads/main/txt_files/av18s.wav\n",
        "!wget https://raw.githubusercontent.com/annashell/python_mag/refs/heads/main/txt_files/av18s.TextGrid"
      ],
      "metadata": {
        "id": "_121vezVCy60"
      },
      "execution_count": null,
      "outputs": []
    },
    {
      "cell_type": "markdown",
      "source": [
        "Задача 1. Вычислите общую длительность пауз в файле и долю пауз от общей длительности записи."
      ],
      "metadata": {
        "id": "KWKC7SpyFkeE"
      }
    },
    {
      "cell_type": "code",
      "source": [
        "!pip install tgt"
      ],
      "metadata": {
        "id": "yI141Uu8FxkS"
      },
      "execution_count": null,
      "outputs": []
    },
    {
      "cell_type": "code",
      "source": [
        "import tgt"
      ],
      "metadata": {
        "id": "7pvzy0Ep81MB"
      },
      "execution_count": null,
      "outputs": []
    },
    {
      "cell_type": "code",
      "source": [
        "grid = tgt.read_textgrid(\"av18s.TextGrid\")\n",
        "\n",
        "pause_duration = 0\n",
        "for interval in grid.tiers[0]:\n",
        "    if interval.text == \"pause\":\n",
        "        pause_duration += interval.end_time - interval.start_time\n",
        "\n",
        "print(\"Pause duration\", pause_duration)\n",
        "total_duration = grid.end_time - grid.start_time\n",
        "pause_ratio = pause_duration / total_duration\n",
        "print(\"Pause ratio\", pause_ratio)"
      ],
      "metadata": {
        "id": "jvNF7c7t83yb"
      },
      "execution_count": null,
      "outputs": []
    },
    {
      "cell_type": "markdown",
      "source": [
        "Задача 2.\n",
        "Создайте PointTier, заполненный точками, соответствующими серединам интервалов слоя ideal, не считая пауз. Именами точек будут имена соответствующих интервалов."
      ],
      "metadata": {
        "id": "Cir-Z7x-CUtT"
      }
    },
    {
      "cell_type": "code",
      "execution_count": null,
      "metadata": {
        "id": "mmk0zVPuCDkj"
      },
      "outputs": [],
      "source": [
        "grid = tgt.read_textgrid(\"av18s.TextGrid\")\n",
        "\n",
        "ideal_tier = grid.get_tier_by_name(\"ideal\")\n",
        "new_point_tier = tgt.PointTier(name=\"ideal points\")\n",
        "grid.add_tier(new_point_tier)\n",
        "\n",
        "for interval in ideal_tier:\n",
        "    if interval.text == \"pause\":\n",
        "        continue\n",
        "    middle = (interval.end_time + interval.start_time) / 2\n",
        "    new_point_tier.add_point(tgt.Point(middle, interval.text))\n",
        "\n",
        "tgt.write_to_file(grid, \"av18s_ideal_points.TextGrid\")"
      ]
    },
    {
      "cell_type": "markdown",
      "source": [
        "Задача 3. Считайте слои syllables и perception, составьте список пар (слог - составляющие его звуки).\n",
        "<br3>\n",
        "Например,\n",
        "[(\"s'n'i\", [\"s'\", \"n'\", \"i\"]), ....]"
      ],
      "metadata": {
        "id": "A-xw1PoOC0Ey"
      }
    },
    {
      "cell_type": "code",
      "source": [
        "grid = tgt.read_textgrid(\"av18s.TextGrid\")\n",
        "\n",
        "syllables_tier = grid.get_tier_by_name(\"syllables\")\n",
        "perception_tier = grid.get_tier_by_name(\"perception\")\n",
        "\n",
        "syllables_list = []\n",
        "for interval in syllables_tier:\n",
        "    if interval.text == \"pause\":\n",
        "        continue\n",
        "    syllable = interval.text\n",
        "    sounds = perception_tier.get_annotations_between_timepoints(interval.start_time, interval.end_time)\n",
        "    sound_names = [snd.text for snd in sounds]\n",
        "    syllables_list.append((syllable, sound_names))\n",
        "\n",
        "print(syllables_list)"
      ],
      "metadata": {
        "id": "hjQ_yOzcFm_D"
      },
      "execution_count": null,
      "outputs": []
    }
  ]
}