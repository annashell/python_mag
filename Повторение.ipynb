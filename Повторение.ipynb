{
  "nbformat": 4,
  "nbformat_minor": 0,
  "metadata": {
    "colab": {
      "provenance": [],
      "authorship_tag": "ABX9TyMs7U+o5DFiuruvqda/SxE8",
      "include_colab_link": true
    },
    "kernelspec": {
      "name": "python3",
      "display_name": "Python 3"
    },
    "language_info": {
      "name": "python"
    }
  },
  "cells": [
    {
      "cell_type": "markdown",
      "metadata": {
        "id": "view-in-github",
        "colab_type": "text"
      },
      "source": [
        "<a href=\"https://colab.research.google.com/github/annashell/python_mag/blob/main/%D0%9F%D0%BE%D0%B2%D1%82%D0%BE%D1%80%D0%B5%D0%BD%D0%B8%D0%B5.ipynb\" target=\"_parent\"><img src=\"https://colab.research.google.com/assets/colab-badge.svg\" alt=\"Open In Colab\"/></a>"
      ]
    },
    {
      "cell_type": "markdown",
      "source": [
        "<h2>Повторение</h2>\n",
        "\n",
        "<h3>Циклы</h3>\n",
        "\n",
        "<p>Задача 1.</p>\n",
        "<p>Напишите функцию, рисующую прямоугольник из символов * заданной ширины и высоты.</p>"
      ],
      "metadata": {
        "id": "fBD1GUHpAu4f"
      }
    },
    {
      "cell_type": "code",
      "execution_count": null,
      "metadata": {
        "id": "WDfay334AQyW"
      },
      "outputs": [],
      "source": []
    },
    {
      "cell_type": "markdown",
      "source": [
        "<p>Задача 2.</p>\n",
        "<p>Напишите функцию, считающую, сколько раз каждая гласная буква встречается в строке.</p>"
      ],
      "metadata": {
        "id": "duiys8nUEfbj"
      }
    },
    {
      "cell_type": "code",
      "source": [],
      "metadata": {
        "id": "1dU_7qyGEycL"
      },
      "execution_count": null,
      "outputs": []
    },
    {
      "cell_type": "markdown",
      "source": [
        "<p>Задача 3.</p>\n",
        "<p>Напишите функцию: программа выбирает число от 0 до 10, пользователь должен его угадать. Если пользователь не угадывает, программа пишет, больше загаданное число или меньше и дает еще одну попытку.</p>"
      ],
      "metadata": {
        "id": "1uTG_WzLEy4g"
      }
    },
    {
      "cell_type": "code",
      "source": [],
      "metadata": {
        "id": "-Umu7IkiGA7q"
      },
      "execution_count": null,
      "outputs": []
    },
    {
      "cell_type": "markdown",
      "source": [
        "\n",
        "<h3>Коллекции</h3>\n",
        "\n",
        "<h3>Циклы</h3>\n",
        "\n",
        "<p>Задача 1.</p>\n",
        "<p>Напишите функцию, принимающую на вход список слов и возвращающую словарь, в котором эти слова сгруппированы по первой букве (ключ - буква, значение - список слов на эту букву)</p>"
      ],
      "metadata": {
        "id": "mnv1kfIoBDjO"
      }
    },
    {
      "cell_type": "code",
      "source": [
        "words = ['apple', 'banana', 'apricot', 'cherry', 'blueberry']"
      ],
      "metadata": {
        "id": "_v9NXwYYBHGG"
      },
      "execution_count": null,
      "outputs": []
    },
    {
      "cell_type": "markdown",
      "source": [
        "<p>Задача 2.</p>\n",
        "<p>Напишите функцию, принимающую на вход список чисел и возвращающую список чисел от 1 до 20 включительно, не входящий в данный список. </p>"
      ],
      "metadata": {
        "id": "YGnxq1Mt2ffw"
      }
    },
    {
      "cell_type": "code",
      "source": [
        "numbers = [2, 5, 7, 9, 14, 18]"
      ],
      "metadata": {
        "id": "9MOtdz2p2wRg"
      },
      "execution_count": null,
      "outputs": []
    },
    {
      "cell_type": "markdown",
      "source": [
        "<p>Задача 3.</p>\n",
        "<p>Напишите функцию, объединяющую два словаря (если ключи совпадают, суммируйте значения) </p>"
      ],
      "metadata": {
        "id": "VXF-K94h2xkX"
      }
    },
    {
      "cell_type": "code",
      "source": [
        "dict1 = {'a': 10, 'b': 20, 'c': 30}\n",
        "dict2 = {'b': 5, 'c': 15, 'd': 25}"
      ],
      "metadata": {
        "id": "rtP5DlYG3Q2w"
      },
      "execution_count": null,
      "outputs": []
    },
    {
      "cell_type": "markdown",
      "source": [
        "\n",
        "<h3>Работа с файлами</h3>\n",
        "\n",
        "<p>Задача 1.</p>\n",
        "<p>Напишите функцию, заменяющую в файле все буквы на заглавные. Результат должен записаться в новый файл с другим именем.</p>"
      ],
      "metadata": {
        "id": "yBb5Cuh1BHY3"
      }
    },
    {
      "cell_type": "code",
      "source": [
        "!wget https://raw.githubusercontent.com/annashell/python_mag/refs/heads/main/txt_files/1.txt"
      ],
      "metadata": {
        "colab": {
          "base_uri": "https://localhost:8080/"
        },
        "id": "RfVQvVpo4Swa",
        "outputId": "74dcba3f-685c-4780-f5ab-3dff53da7bd6"
      },
      "execution_count": null,
      "outputs": [
        {
          "output_type": "stream",
          "name": "stdout",
          "text": [
            "--2025-09-01 10:57:06--  https://raw.githubusercontent.com/annashell/python_mag/refs/heads/main/txt_files/1.txt\n",
            "Resolving raw.githubusercontent.com (raw.githubusercontent.com)... 185.199.108.133, 185.199.110.133, 185.199.109.133, ...\n",
            "Connecting to raw.githubusercontent.com (raw.githubusercontent.com)|185.199.108.133|:443... connected.\n",
            "HTTP request sent, awaiting response... 200 OK\n",
            "Length: 380 [text/plain]\n",
            "Saving to: ‘1.txt’\n",
            "\n",
            "\r1.txt                 0%[                    ]       0  --.-KB/s               \r1.txt               100%[===================>]     380  --.-KB/s    in 0s      \n",
            "\n",
            "2025-09-01 10:57:06 (4.94 MB/s) - ‘1.txt’ saved [380/380]\n",
            "\n"
          ]
        }
      ]
    },
    {
      "cell_type": "markdown",
      "source": [
        "<p>Задача 2.</p>\n",
        "<p>Напишите функцию, объединияющую содержимое двух файлов в один.</p>"
      ],
      "metadata": {
        "id": "Nfvryi5g4Uom"
      }
    },
    {
      "cell_type": "code",
      "source": [
        "!wget https://raw.githubusercontent.com/annashell/python_mag/refs/heads/main/txt_files/1.txt\n",
        "!wget https://raw.githubusercontent.com/annashell/python_mag/refs/heads/main/txt_files/2.txt"
      ],
      "metadata": {
        "id": "A3rrg3L-BK-_"
      },
      "execution_count": null,
      "outputs": []
    },
    {
      "cell_type": "markdown",
      "source": [
        "<p>Задача 3.</p>\n",
        "<p>Напишите функцию, создающую новый файл только со строками, содержащими определенное слово.</p>"
      ],
      "metadata": {
        "id": "AjUzfKmr4efH"
      }
    },
    {
      "cell_type": "code",
      "source": [],
      "metadata": {
        "id": "s3lMk6FL4g_m"
      },
      "execution_count": null,
      "outputs": []
    }
  ]
}