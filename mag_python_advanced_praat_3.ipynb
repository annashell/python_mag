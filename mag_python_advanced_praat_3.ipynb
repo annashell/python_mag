{
  "nbformat": 4,
  "nbformat_minor": 0,
  "metadata": {
    "colab": {
      "provenance": [],
      "authorship_tag": "ABX9TyNnltBEx5T6OWUUefQkEz7G",
      "include_colab_link": true
    },
    "kernelspec": {
      "name": "python3",
      "display_name": "Python 3"
    },
    "language_info": {
      "name": "python"
    }
  },
  "cells": [
    {
      "cell_type": "markdown",
      "metadata": {
        "id": "view-in-github",
        "colab_type": "text"
      },
      "source": [
        "<a href=\"https://colab.research.google.com/github/annashell/python_mag/blob/main/mag_python_advanced_praat_3.ipynb\" target=\"_parent\"><img src=\"https://colab.research.google.com/assets/colab-badge.svg\" alt=\"Open In Colab\"/></a>"
      ]
    },
    {
      "cell_type": "code",
      "execution_count": null,
      "metadata": {
        "id": "cachBWAP97a3"
      },
      "outputs": [],
      "source": [
        "!wget https://raw.githubusercontent.com/annashell/python_mag/refs/heads/main/txt_files/cta0003.TextGrid"
      ]
    },
    {
      "cell_type": "markdown",
      "source": [
        "Задача 1.\n",
        "Рассчитайте долю длительности записи, занимаемой гласными."
      ],
      "metadata": {
        "id": "bgn4iSJjCMV2"
      }
    },
    {
      "cell_type": "code",
      "source": [],
      "metadata": {
        "id": "1R20Rb8LEzo7"
      },
      "execution_count": null,
      "outputs": []
    },
    {
      "cell_type": "markdown",
      "source": [
        "Задача 2. Соберите длительности всех гласных звуков в один список.\n",
        "\n",
        "а) Вычислите среднее арифметическое длительностей (mean)\n",
        "\n",
        "б) Вычислите стандартное отклонение (std)\n",
        "\n",
        "в) вычислите параметр ΔV = (std / mean) * 100\n",
        "\n",
        "Для вычисления этих параметров высказывания используйте методы np.mean(<ваш список длительностей>), np.std(<ваш список длительностей>) библиотеки numpy"
      ],
      "metadata": {
        "id": "l8LhVKvNEz5O"
      }
    },
    {
      "cell_type": "code",
      "source": [
        "import numpy as np\n",
        "\n",
        "# ваш код"
      ],
      "metadata": {
        "id": "y89xWW4aFLZW"
      },
      "execution_count": null,
      "outputs": []
    },
    {
      "cell_type": "markdown",
      "source": [
        "Задача 3. Соберите в список длительности консонантных кластеров (интервалов между гласными)\n",
        "\n",
        "а) Вычислите среднее арифметическое длительностей (mean)\n",
        "\n",
        "б) Вычислите стандартное отклонение (std)\n",
        "\n",
        "в) вычислите параметр ΔC = (std / mean) * 100\n",
        "\n",
        "Для вычисления этих параметров высказывания используйте методы np.mean(<ваш список длительностей>), np.std(<ваш список длительностей>) библиотеки numpy"
      ],
      "metadata": {
        "id": "1yWJFBYNFv5S"
      }
    },
    {
      "cell_type": "code",
      "source": [
        "import numpy as np\n",
        "\n",
        "# ваш код"
      ],
      "metadata": {
        "id": "cIVMV-ykGtDR"
      },
      "execution_count": null,
      "outputs": []
    }
  ]
}