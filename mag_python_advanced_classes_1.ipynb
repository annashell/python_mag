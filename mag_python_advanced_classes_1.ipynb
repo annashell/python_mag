{
  "cells": [
    {
      "cell_type": "markdown",
      "metadata": {
        "id": "view-in-github",
        "colab_type": "text"
      },
      "source": [
        "<a href=\"https://colab.research.google.com/github/annashell/python_mag/blob/main/mag_python_advanced_classes_1.ipynb\" target=\"_parent\"><img src=\"https://colab.research.google.com/assets/colab-badge.svg\" alt=\"Open In Colab\"/></a>"
      ]
    },
    {
      "cell_type": "markdown",
      "metadata": {
        "id": "QUmCjwRNnBCl"
      },
      "source": [
        "<h2>Классы в Python</h2>\n",
        "\n",
        "<p> Классы - это фундаментальная концепция объектно-ориентированного программирования (ООП). Они позволяют создавать собственные типы данных.</p>\n",
        "\n",
        "<p>Класс - это шаблон для создания объектов. Объекты - это экземпляры классов.</p>\n",
        "\n",
        "<p>\n",
        "Классы в Python предоставляют мощный инструмент для организации кода, делая его более:\n",
        "\n",
        "* Модульным - легче поддерживать и изменять\n",
        "\n",
        "* Переиспользуемым - код можно использовать многократно\n",
        "\n",
        "* Расширяемым - легко добавлять новую функциональность\n",
        "\n",
        "* Понятным - лучше отражает реальные объекты и процессы</p>\n"
      ]
    },
    {
      "cell_type": "code",
      "execution_count": null,
      "metadata": {
        "id": "hNIQaz2jmx6a"
      },
      "outputs": [],
      "source": [
        "class Dog:\n",
        "    # Атрибут класса (общий для всех экземпляров)\n",
        "    species = \"Canis familiaris\"\n",
        "\n",
        "    # Конструктор (инициализатор)\n",
        "    def __init__(self, name, age):\n",
        "        # Атрибуты экземпляра\n",
        "        self.name = name\n",
        "        self.age = age\n",
        "\n",
        "    # Метод экземпляра\n",
        "    def bark(self):\n",
        "        return f\"{self.name} говорит: Гав!\"\n",
        "\n",
        "    # Еще один метод\n",
        "    def get_info(self):\n",
        "        return f\"{self.name} - {self.age} лет, вид: {self.species}\"\n",
        "\n"
      ]
    },
    {
      "cell_type": "code",
      "execution_count": null,
      "metadata": {
        "id": "a7VTuIaDoF3_",
        "outputId": "265556ce-23a6-4cf7-ad0c-ece6a130ab1b"
      },
      "outputs": [
        {
          "data": {
            "text/plain": [
              "'Бобик'"
            ]
          },
          "execution_count": 6,
          "metadata": {},
          "output_type": "execute_result"
        }
      ],
      "source": [
        "# Создание объектов (экземпляров класса)\n",
        "dog1 = Dog(\"Бобик\", 3)\n",
        "dog2 = Dog(\"Шарик\", 5)\n",
        "\n",
        "dog1.name"
      ]
    },
    {
      "cell_type": "code",
      "execution_count": null,
      "metadata": {
        "id": "cFOZkPJgoGfN",
        "outputId": "be10bb50-cd61-437a-fbdb-5c0921874a7f"
      },
      "outputs": [
        {
          "name": "stdout",
          "output_type": "stream",
          "text": [
            "Бобик говорит: Гав!\n",
            "Шарик - 5 лет, вид: Canis familiaris\n"
          ]
        }
      ],
      "source": [
        "# Использование методов\n",
        "print(dog1.bark())  # Бобик говорит: Гав!\n",
        "print(dog2.get_info())  # Шарик - 5 лет, вид: Canis familiaris"
      ]
    },
    {
      "cell_type": "code",
      "execution_count": null,
      "metadata": {
        "id": "Ht9qmAu8oJr4"
      },
      "outputs": [],
      "source": [
        "# Доступ к атрибутам\n",
        "print(dog1.name)  # Бобик\n",
        "print(dog2.age)   # 5"
      ]
    },
    {
      "cell_type": "markdown",
      "metadata": {
        "id": "Dfk9ZZ1Znlv_"
      },
      "source": [
        "<h3>Ключевые понятия ООП</h3>\n",
        "<h4>1. Инкапсуляция</h4>\n"
      ]
    },
    {
      "cell_type": "code",
      "execution_count": null,
      "metadata": {
        "id": "2ulNBneEnABv"
      },
      "outputs": [],
      "source": [
        "class BankAccount:\n",
        "    def __init__(self, owner, balance=0):\n",
        "        self.owner = owner\n",
        "        self.__balance = balance  # Приватный атрибут\n",
        "\n",
        "    def deposit(self, amount):\n",
        "        if amount > 0:\n",
        "            self.__balance += amount\n",
        "            return f\"Пополнено: {amount}. Баланс: {self.__balance}\"\n",
        "        return \"Неверная сумма\"\n",
        "\n",
        "    def withdraw(self, amount):\n",
        "        if 0 < amount <= self.__balance:\n",
        "            self.__balance -= amount\n",
        "            return f\"Снято: {amount}. Баланс: {self.__balance}\"\n",
        "        return \"Недостаточно средств\"\n",
        "\n",
        "    def get_balance(self):\n",
        "        return self.__balance"
      ]
    },
    {
      "cell_type": "code",
      "execution_count": null,
      "metadata": {
        "id": "_oDK99nzoQ_O",
        "outputId": "ea407daa-f960-4714-9c4e-026e39c857fa"
      },
      "outputs": [
        {
          "name": "stdout",
          "output_type": "stream",
          "text": [
            "Пополнено: 500. Баланс: 1500\n",
            "Снято: 200. Баланс: 1300\n"
          ]
        },
        {
          "data": {
            "text/plain": [
              "1300"
            ]
          },
          "execution_count": 10,
          "metadata": {},
          "output_type": "execute_result"
        }
      ],
      "source": [
        "# Использование\n",
        "account = BankAccount(\"Иван Иванов\", 1000)\n",
        "print(account.deposit(500))  # Пополнено: 500. Баланс: 1500\n",
        "print(account.withdraw(200)) # Снято: 200. Баланс: 1300\n",
        "account.get_balance()"
      ]
    },
    {
      "cell_type": "markdown",
      "metadata": {
        "id": "XrrIaRuToRz8"
      },
      "source": [
        "<h4>2. Наследование</h4>"
      ]
    },
    {
      "cell_type": "code",
      "execution_count": null,
      "metadata": {
        "id": "iaddYhHHobjt"
      },
      "outputs": [],
      "source": [
        "# Базовый класс\n",
        "class Animal:\n",
        "    def __init__(self, name):\n",
        "        self.name = name\n",
        "\n",
        "    def speak(self):\n",
        "        raise NotImplementedError(\"Должен быть реализован в подклассе\")\n",
        "\n",
        "# Подкласс\n",
        "class Cat(Animal):\n",
        "    def speak(self):\n",
        "        return f\"{self.name} говорит: Мяу!\"\n",
        "\n",
        "# Другой подкласс\n",
        "class Dog(Animal):\n",
        "    def speak(self):\n",
        "        return f\"{self.name} говорит: Гав!\"\n",
        "\n",
        "    def fetch(self):\n",
        "        return f\"{self.name} принес палку!\"\n"
      ]
    },
    {
      "cell_type": "code",
      "execution_count": null,
      "metadata": {
        "id": "mEp4HbFzofLk",
        "outputId": "accbbe37-95ce-466b-e1f0-951f05dd651d"
      },
      "outputs": [
        {
          "name": "stdout",
          "output_type": "stream",
          "text": [
            "Мурка говорит: Мяу!\n",
            "Бобик говорит: Гав!\n"
          ]
        }
      ],
      "source": [
        "# Использование\n",
        "animals = [Cat(\"Мурка\"), Dog(\"Бобик\")]\n",
        "\n",
        "for animal in animals:\n",
        "    print(animal.speak())"
      ]
    },
    {
      "cell_type": "markdown",
      "metadata": {
        "id": "qJDnBQczpZyw"
      },
      "source": [
        "<h4>3. Полиморфизм</h4>"
      ]
    },
    {
      "cell_type": "code",
      "execution_count": null,
      "metadata": {
        "id": "1xvxNjWyphZh"
      },
      "outputs": [],
      "source": [
        "class Rectangle:\n",
        "    def __init__(self, width, height):\n",
        "        self.width = width\n",
        "        self.height = height\n",
        "\n",
        "    def area(self):\n",
        "        return self.width * self.height\n",
        "\n",
        "class Circle:\n",
        "    def __init__(self, radius):\n",
        "        self.radius = radius\n",
        "\n",
        "    def area(self):\n",
        "        return 3.14 * self.radius ** 2"
      ]
    },
    {
      "cell_type": "code",
      "execution_count": null,
      "metadata": {
        "id": "atMex3pnpkWu",
        "outputId": "d7d5c6a7-a314-4c87-c83a-7227cb9462c7"
      },
      "outputs": [
        {
          "name": "stdout",
          "output_type": "stream",
          "text": [
            "Площадь: 50\n",
            "Площадь: 153.86\n"
          ]
        }
      ],
      "source": [
        "# Разные классы, но одинаковый метод\n",
        "shapes = [Rectangle(5, 10), Circle(7)]\n",
        "\n",
        "for shape in shapes:\n",
        "    print(f\"Площадь: {shape.area()}\")"
      ]
    },
    {
      "cell_type": "markdown",
      "metadata": {
        "id": "gHgwHzCApl9B"
      },
      "source": [
        "<h4>Специальные методы</h4>"
      ]
    },
    {
      "cell_type": "code",
      "execution_count": null,
      "metadata": {
        "id": "77SZ-Khrp3cW"
      },
      "outputs": [],
      "source": [
        "class Vector:\n",
        "    def __init__(self, x, y):\n",
        "        self.x = x\n",
        "        self.y = y\n",
        "\n",
        "    def __str__(self):\n",
        "        return f\"Vector({self.x}, {self.y})\"\n",
        "\n",
        "    def __add__(self, other):\n",
        "        return Vector(self.x + other.x, self.y + other.y)\n",
        "\n",
        "    def __mul__(self, scalar):\n",
        "        return Vector(self.x * scalar, self.y * scalar)"
      ]
    },
    {
      "cell_type": "code",
      "execution_count": null,
      "metadata": {
        "id": "xfaDFhoLp-Od",
        "outputId": "ff661a00-fd1b-4c67-ed8f-940635de58cd"
      },
      "outputs": [
        {
          "name": "stdout",
          "output_type": "stream",
          "text": [
            "Vector(2, 3)\n",
            "Vector(3, 7)\n",
            "Vector(6, 9)\n"
          ]
        }
      ],
      "source": [
        "# Использование\n",
        "v1 = Vector(2, 3)\n",
        "v2 = Vector(1, 4)\n",
        "\n",
        "print(v1)           # Vector(2, 3)\n",
        "print(v1 + v2)      # Vector(3, 7)\n",
        "print(v1 * 3)       # Vector(6, 9)"
      ]
    },
    {
      "cell_type": "markdown",
      "metadata": {
        "id": "d-wri1aVp_Zk"
      },
      "source": [
        "Еще пример использования:"
      ]
    },
    {
      "cell_type": "code",
      "execution_count": null,
      "metadata": {
        "id": "0Md2DPENq5jK"
      },
      "outputs": [],
      "source": [
        "class Student:\n",
        "    def __init__(self, name, student_id):\n",
        "        self.name = name\n",
        "        self.student_id = student_id\n",
        "        self.grades = []\n",
        "\n",
        "    def add_grade(self, grade):\n",
        "        if 0 <= grade <= 100:\n",
        "            self.grades.append(grade)\n",
        "        else:\n",
        "            print(\"Оценка должна быть от 0 до 100\")\n",
        "\n",
        "    def average_grade(self):\n",
        "        if not self.grades:\n",
        "            return 0\n",
        "        return sum(self.grades) / len(self.grades)\n",
        "\n",
        "    def __str__(self):\n",
        "        return f\"Студент: {self.name} (ID: {self.student_id}), Средний балл: {self.average_grade():.2f}\"\n",
        "\n",
        "class Course:\n",
        "    def __init__(self, name):\n",
        "        self.name = name\n",
        "        self.students = []\n",
        "\n",
        "    def add_student(self, student):\n",
        "        self.students.append(student)\n",
        "\n",
        "    def get_top_student(self):\n",
        "        if not self.students:\n",
        "            return None\n",
        "        return max(self.students, key=lambda s: s.average_grade())"
      ]
    },
    {
      "cell_type": "code",
      "execution_count": null,
      "metadata": {
        "id": "OItBuHpPq9Ne",
        "outputId": "3991de3e-fc15-4a75-9d3e-4d314653a023"
      },
      "outputs": [
        {
          "name": "stdout",
          "output_type": "stream",
          "text": [
            "Студент: Алексей (ID: 001), Средний балл: 91.50\n",
            "Студент: Мария (ID: 002), Средний балл: 94.00\n",
            "\n",
            "Лучший студент: Мария\n"
          ]
        }
      ],
      "source": [
        "# Использование\n",
        "course = Course(\"Программирование на Python\")\n",
        "\n",
        "student1 = Student(\"Алексей\", \"001\")\n",
        "student1.add_grade(95)\n",
        "student1.add_grade(88)\n",
        "\n",
        "student2 = Student(\"Мария\", \"002\")\n",
        "student2.add_grade(92)\n",
        "student2.add_grade(96)\n",
        "\n",
        "course.add_student(student1)\n",
        "course.add_student(student2)\n",
        "\n",
        "for student in course.students:\n",
        "    print(student)\n",
        "\n",
        "top_student = course.get_top_student()\n",
        "print(f\"\\nЛучший студент: {top_student.name}\")"
      ]
    },
    {
      "cell_type": "markdown",
      "metadata": {
        "id": "SrmNVexYrM2W"
      },
      "source": [
        "**Задание**: библиотека\n",
        "\n",
        "Создайте класс Book с атрибутами: title, author, is_available\n",
        "\n",
        "Создайте класс Library: список книг\n",
        "\n",
        "Методы: add_book(), borrow_book(title), return_book(title), show_available_books()"
      ]
    },
    {
      "cell_type": "code",
      "execution_count": null,
      "metadata": {
        "id": "6nbMiKkKrX2E"
      },
      "outputs": [],
      "source": [
        "class Book:\n",
        "    def __init__(self, title, author, is_available):\n",
        "        self.title = title\n",
        "        self.author = author\n",
        "        self.is_available = is_available\n",
        "\n",
        "    def __str__(self):\n",
        "        is_av_string = \"в наличии\" if self.is_available else \"не в наличии\"\n",
        "        return f\"{self.title}, {self.author}, {is_av_string};\\n\"\n",
        "\n",
        "\n",
        "class Library:\n",
        "\n",
        "    def __init__(self, book_list):\n",
        "        self.book_list = book_list\n",
        "\n",
        "    def add_book(self, book):\n",
        "        self.book_list.append(book)\n",
        "\n",
        "    def borrow_book(self, book_title):\n",
        "        for book in self.book_list:\n",
        "            if book.title == book_title:\n",
        "                if book.is_available:\n",
        "                    book.is_available = False\n",
        "                    print(f\"{book.title} забрали\")\n",
        "                    break\n",
        "                else:\n",
        "                    print(f\"{book.title} нет в наличии\")\n",
        "\n",
        "    def return_book(self, book_title):\n",
        "        for book in self.book_list:\n",
        "            if book.title == book_title:\n",
        "                if not book.is_available:\n",
        "                    book.is_available = True\n",
        "                    print(f\"{book.title} вернули\")\n",
        "                    break\n",
        "\n",
        "    def show_available_books(self):\n",
        "        for book in self.book_list:\n",
        "            if book.is_available:\n",
        "                print(book)\n",
        "\n",
        "\n"
      ]
    },
    {
      "cell_type": "code",
      "execution_count": null,
      "metadata": {
        "id": "74v5v1bO2UWe"
      },
      "outputs": [],
      "source": [
        "book_1 = Book(\"Введение в языкознание\", \"Маслов\", True)\n",
        "book_2 = Book(\"Морфология волшебной сказки\", \"Пропп\", True)\n",
        "book_3 = Book(\"Незнайка на Луне\", \"Носов\", True)\n",
        "book_4 = Book(\"50 оттенков серого\", \"Майер\", True)"
      ]
    },
    {
      "cell_type": "code",
      "execution_count": null,
      "metadata": {
        "id": "Bof13hja2UWe"
      },
      "outputs": [],
      "source": [
        "library_1 = Library([book_1, book_2, book_3, book_4])"
      ]
    },
    {
      "cell_type": "code",
      "execution_count": null,
      "metadata": {
        "id": "9_JEwMNe2UWf",
        "outputId": "4c47efb0-34f5-45a4-a35a-ad2c892ba7e6"
      },
      "outputs": [
        {
          "name": "stdout",
          "output_type": "stream",
          "text": [
            "Введение в языкознание, Маслов, в наличии;\n",
            "\n",
            "Морфология волшебной сказки, Пропп, в наличии;\n",
            "\n",
            "Незнайка на Луне, Носов, в наличии;\n",
            "\n",
            "50 оттенков серого, Майер, в наличии;\n",
            "\n"
          ]
        }
      ],
      "source": [
        "for book in library_1.book_list:\n",
        "    print(book)"
      ]
    },
    {
      "cell_type": "code",
      "execution_count": null,
      "metadata": {
        "id": "xElz7hEH2UWf",
        "outputId": "f6f8a64e-a54d-4076-bdaa-b8ba58b76eed"
      },
      "outputs": [
        {
          "name": "stdout",
          "output_type": "stream",
          "text": [
            "50 оттенков серого забрали\n"
          ]
        }
      ],
      "source": [
        "library_1.borrow_book(\"50 оттенков серого\")"
      ]
    },
    {
      "cell_type": "code",
      "execution_count": null,
      "metadata": {
        "id": "lQwNBTTk2UWf",
        "outputId": "9a35631f-8af8-4347-abde-fbf206f34cd1"
      },
      "outputs": [
        {
          "name": "stdout",
          "output_type": "stream",
          "text": [
            "Введение в языкознание, Маслов, в наличии;\n",
            "\n",
            "Морфология волшебной сказки, Пропп, в наличии;\n",
            "\n",
            "Незнайка на Луне, Носов, в наличии;\n",
            "\n",
            "50 оттенков серого, Майер, не в наличии;\n",
            "\n"
          ]
        }
      ],
      "source": [
        "for book in library_1.book_list:\n",
        "    print(book)"
      ]
    },
    {
      "cell_type": "code",
      "execution_count": null,
      "metadata": {
        "id": "T5rxU-gV2UWf",
        "outputId": "9128261a-9b24-473e-e79e-554ac3565a60"
      },
      "outputs": [
        {
          "name": "stdout",
          "output_type": "stream",
          "text": [
            "Введение в языкознание забрали\n",
            "50 оттенков серого вернули\n"
          ]
        }
      ],
      "source": [
        "library_1.borrow_book(\"Введение в языкознание\")\n",
        "library_1.return_book(\"50 оттенков серого\")"
      ]
    },
    {
      "cell_type": "code",
      "execution_count": null,
      "metadata": {
        "id": "ZCP3-3fT2UWg",
        "outputId": "e008437c-6d93-413c-dd9a-59e9b589a011"
      },
      "outputs": [
        {
          "name": "stdout",
          "output_type": "stream",
          "text": [
            "Введение в языкознание, Маслов, не в наличии;\n",
            "\n",
            "Морфология волшебной сказки, Пропп, в наличии;\n",
            "\n",
            "Незнайка на Луне, Носов, в наличии;\n",
            "\n",
            "50 оттенков серого, Майер, в наличии;\n",
            "\n"
          ]
        }
      ],
      "source": [
        "for book in library_1.book_list:\n",
        "    print(book)"
      ]
    },
    {
      "cell_type": "code",
      "execution_count": null,
      "metadata": {
        "id": "PO6E-Pxt2UWg",
        "outputId": "35bd756b-3ca5-4358-d1f1-f88bd057f4bc"
      },
      "outputs": [
        {
          "name": "stdout",
          "output_type": "stream",
          "text": [
            "Введение в языкознание нет в наличии\n"
          ]
        }
      ],
      "source": [
        "library_1.borrow_book(\"Введение в языкознание\")"
      ]
    },
    {
      "cell_type": "code",
      "execution_count": null,
      "metadata": {
        "id": "FBWvrvy52UWg",
        "outputId": "9cafb52c-f1b0-4d62-c510-f1aa9ac4766e"
      },
      "outputs": [
        {
          "name": "stdout",
          "output_type": "stream",
          "text": [
            "Морфология волшебной сказки, Пропп, в наличии;\n",
            "\n",
            "Незнайка на Луне, Носов, в наличии;\n",
            "\n",
            "50 оттенков серого, Майер, в наличии;\n",
            "\n"
          ]
        }
      ],
      "source": [
        "library_1.show_available_books()"
      ]
    }
  ],
  "metadata": {
    "colab": {
      "provenance": [],
      "include_colab_link": true
    },
    "kernelspec": {
      "display_name": ".venv",
      "language": "python",
      "name": "python3"
    },
    "language_info": {
      "codemirror_mode": {
        "name": "ipython",
        "version": 3
      },
      "file_extension": ".py",
      "mimetype": "text/x-python",
      "name": "python",
      "nbconvert_exporter": "python",
      "pygments_lexer": "ipython3",
      "version": "3.10.7"
    }
  },
  "nbformat": 4,
  "nbformat_minor": 0
}