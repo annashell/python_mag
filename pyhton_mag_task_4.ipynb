{
  "nbformat": 4,
  "nbformat_minor": 0,
  "metadata": {
    "colab": {
      "provenance": []
    },
    "kernelspec": {
      "name": "python3",
      "display_name": "Python 3"
    },
    "language_info": {
      "name": "python"
    }
  },
  "cells": [
    {
      "cell_type": "markdown",
      "source": [
        "1. Генератор пророчеств. Напишите функцию, генерирующую пророчества по шаблону:\n",
        "\n",
        "```\n",
        "templates = [\n",
        "  \"В {день} ты встретишь {существо}.\",\n",
        "  \"Бойся {цвет} {предмета} в {место}.\",\n",
        "  \"Твое счастье в {действие} под {небесное тело}.\"\n",
        "]\n",
        "```\n",
        "Функция должна возвращать предсказание по случайному шаблону, возможные варианты мест/существ/действий и т.д. должны быть оформлены в словарь."
      ],
      "metadata": {
        "id": "dk8UeU8ljlk7"
      }
    },
    {
      "cell_type": "code",
      "source": [],
      "metadata": {
        "id": "Z_dDBCmYJEMs"
      },
      "execution_count": null,
      "outputs": []
    },
    {
      "cell_type": "markdown",
      "source": [
        "Задача 2. Вы нашли файл с дневником путешественника во времени (diary.txt), но в нем перепутаны все записи. Каждая запись начинается с новой строки и даты в формате YYYY/MM/DD. Ваша задача - восстановить порядок записей в соответствии с датой и записать в новый файл. Файл с дневником скачается, если запустить следующую ячейку."
      ],
      "metadata": {
        "id": "pIxHZLelkdsB"
      }
    },
    {
      "cell_type": "code",
      "source": [
        "!wget https://raw.githubusercontent.com/annashell/python_mag/refs/heads/main/txt_files/diary.txt"
      ],
      "metadata": {
        "id": "jQ5J9L4bmMoU"
      },
      "execution_count": null,
      "outputs": []
    },
    {
      "cell_type": "code",
      "source": [],
      "metadata": {
        "id": "BcPjPRlXI-_d"
      },
      "execution_count": null,
      "outputs": []
    },
    {
      "cell_type": "markdown",
      "source": [
        "Задание 3. Два королевства объединяются. В файле decree1.txt лежат указы одного королевства, а в файле decree2.txt - второго. Нужно объединить их в один файл с именем united_decree.txt. Скачать файлы можно запустив ячейку ниже."
      ],
      "metadata": {
        "id": "vCYakA6XmL5F"
      }
    },
    {
      "cell_type": "code",
      "source": [
        "!wget https://raw.githubusercontent.com/annashell/python_mag/refs/heads/main/txt_files/decree1.txt\n",
        "!wget https://raw.githubusercontent.com/annashell/python_mag/refs/heads/main/txt_files/decree2.txt"
      ],
      "metadata": {
        "id": "F2ndaAnFo7qG"
      },
      "execution_count": null,
      "outputs": []
    },
    {
      "cell_type": "code",
      "source": [],
      "metadata": {
        "id": "Z-maHJu3I_4v"
      },
      "execution_count": null,
      "outputs": []
    },
    {
      "cell_type": "markdown",
      "source": [
        "Задание 4. В файле ghost_chat.log нужно найти все реплики, содержащие слова из списка spooky_words.txt, и записать их в файл spooky_messages.log"
      ],
      "metadata": {
        "id": "TgfDPD9Km0h8"
      }
    },
    {
      "cell_type": "code",
      "source": [
        "!wget https://raw.githubusercontent.com/annashell/python_mag/refs/heads/main/txt_files/spooky_words.txt\n",
        "!wget https://raw.githubusercontent.com/annashell/python_mag/refs/heads/main/txt_files/spooky_messages.log"
      ],
      "metadata": {
        "id": "TT_Mk7O7o8Qu"
      },
      "execution_count": null,
      "outputs": []
    },
    {
      "cell_type": "code",
      "source": [],
      "metadata": {
        "id": "DwuhDIw3JAuG"
      },
      "execution_count": null,
      "outputs": []
    },
    {
      "cell_type": "markdown",
      "source": [
        "Задание 5. В учебнике spells.txt все заклинания написаны в разных регистрах. Нужно привести к формату \"Первая буква заглавная\" и записать в файл spells_corrected.txt"
      ],
      "metadata": {
        "id": "OH-XiKSCo6d2"
      }
    },
    {
      "cell_type": "code",
      "source": [
        "!wget https://raw.githubusercontent.com/annashell/python_mag/refs/heads/main/txt_files/spells.txt"
      ],
      "metadata": {
        "id": "4WpMteEJpHrF"
      },
      "execution_count": null,
      "outputs": []
    },
    {
      "cell_type": "code",
      "source": [],
      "metadata": {
        "id": "8vNc51UnJBXu"
      },
      "execution_count": null,
      "outputs": []
    }
  ]
}